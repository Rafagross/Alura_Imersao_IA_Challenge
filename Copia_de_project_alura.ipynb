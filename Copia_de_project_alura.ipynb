{
  "nbformat": 4,
  "nbformat_minor": 0,
  "metadata": {
    "colab": {
      "provenance": [],
      "mount_file_id": "10lNRpbaWWKOrRlxEge4fVIcawOOSulzO",
      "authorship_tag": "ABX9TyOatE4LXL5ERlWyeYsFGvv+",
      "include_colab_link": true
    },
    "kernelspec": {
      "name": "python3",
      "display_name": "Python 3"
    },
    "language_info": {
      "name": "python"
    }
  },
  "cells": [
    {
      "cell_type": "markdown",
      "metadata": {
        "id": "view-in-github",
        "colab_type": "text"
      },
      "source": [
        "<a href=\"https://colab.research.google.com/github/Rafagross/Alura_Imersao_IA_Challenge/blob/main/Copia_de_project_alura.ipynb\" target=\"_parent\"><img src=\"https://colab.research.google.com/assets/colab-badge.svg\" alt=\"Open In Colab\"/></a>"
      ]
    },
    {
      "cell_type": "code",
      "execution_count": null,
      "metadata": {
        "id": "bO0JC7IiqSgE"
      },
      "outputs": [],
      "source": [
        "# Install required libraries\n",
        "!pip install -q -U google-generativeai\n",
        "!pip install tweepy"
      ]
    },
    {
      "cell_type": "code",
      "source": [
        "# Import libraries\n",
        "import re\n",
        "import os\n",
        "import nltk\n",
        "import tweepy\n",
        "import pandas as pd\n",
        "import numpy as np\n",
        "import tensorflow as tf\n",
        "from tensorflow.keras.preprocessing.text import Tokenizer\n",
        "from tensorflow.keras.preprocessing.sequence import pad_sequences\n",
        "from sklearn.model_selection import train_test_split\n",
        "from sklearn.feature_extraction.text import TfidfVectorizer\n",
        "from tensorflow.keras.models import Sequential\n",
        "from tensorflow.keras.layers import Embedding, LSTM, Dense\n",
        "from nltk.corpus import stopwords\n",
        "from nltk.stem import WordNetLemmatizer"
      ],
      "metadata": {
        "id": "z-l4C-LOsflD"
      },
      "execution_count": 10,
      "outputs": []
    },
    {
      "cell_type": "code",
      "source": [
        "# Download NLTK resources (run only once)\n",
        "nltk.download('punkt', quiet=True)\n",
        "nltk.download('stopwords', quiet=True)\n",
        "nltk.download('wordnet', quiet=True)"
      ],
      "metadata": {
        "id": "vWtwrFJaUo-n",
        "outputId": "887e1b14-8521-4fa6-9b27-7285bf26fb6d",
        "colab": {
          "base_uri": "https://localhost:8080/"
        }
      },
      "execution_count": 17,
      "outputs": [
        {
          "output_type": "execute_result",
          "data": {
            "text/plain": [
              "True"
            ]
          },
          "metadata": {},
          "execution_count": 17
        }
      ]
    },
    {
      "cell_type": "code",
      "source": [
        "# Configure Google GenerativeAI API key\n",
        "GOOGLE_API_KEY = \"<YOUR_API_KEY>\"\n",
        "os.environ[\"GENAI_API_KEY\"] = GOOGLE_API_KEY"
      ],
      "metadata": {
        "id": "4G4t-5R6Oozw"
      },
      "execution_count": 12,
      "outputs": []
    },
    {
      "cell_type": "code",
      "source": [
        "# Configure Twitter API authentication\n",
        "consumer_key = 'YOUR_CONSUMER_KEY_REAL'\n",
        "consumer_secret = 'YOUR_CONSUMER_SECRET_REAL'\n",
        "access_token = 'YOUR_ACCESS_TOKEN_REAL'\n",
        "access_token_secret = 'YOUR_ACCESS_SECRET_TOKEN_REAL'"
      ],
      "metadata": {
        "id": "9PQkRC-tOuFT"
      },
      "execution_count": 13,
      "outputs": []
    },
    {
      "cell_type": "code",
      "source": [
        "# Authenticate with the Twitter API\n",
        "auth = tweepy.OAuthHandler(consumer_key, consumer_secret)\n",
        "auth.set_access_token(access_token, access_token_secret)"
      ],
      "metadata": {
        "id": "zfWBcXx1REpj"
      },
      "execution_count": 26,
      "outputs": []
    },
    {
      "cell_type": "code",
      "source": [
        "# Crear el objeto de la Twitter API\n",
        "api = tweepy.API(auth)"
      ],
      "metadata": {
        "id": "zPAvRvAFRa6U"
      },
      "execution_count": 20,
      "outputs": []
    },
    {
      "cell_type": "code",
      "source": [
        "# Define your search query\n",
        "query = \"YOUR_SEARCH_QUERY\""
      ],
      "metadata": {
        "id": "tWeWQ-xqTBqt"
      },
      "execution_count": 21,
      "outputs": []
    },
    {
      "cell_type": "code",
      "source": [
        "# Collect tweets using the Cursor method\n",
        "tweets = tweepy.Cursor(api.search_tweets, q=query).items(100)"
      ],
      "metadata": {
        "id": "n-0tUs4eTIGG"
      },
      "execution_count": 22,
      "outputs": []
    },
    {
      "cell_type": "code",
      "source": [
        "\n",
        "def preprocess_text(text):\n",
        "    \"\"\"\n",
        "    Preprocesses text for sentiment analysis.\n",
        "\n",
        "    Args:\n",
        "      text (str): The text to preprocess.\n",
        "\n",
        "    Returns:\n",
        "      str: The preprocessed text.\n",
        "    \"\"\"\n",
        "    # Remove URLs\n",
        "    text = re.sub(r'https?://\\S+', '', text)\n",
        "\n",
        "    # Remove mentions (@username)\n",
        "    text = re.sub(r'@\\w+', '', text)\n",
        "\n",
        "    # Remove special characters and digits\n",
        "    text = re.sub(r'[^\\w\\s]', '', text)\n",
        "    text = re.sub(r'\\d+', '', text)\n",
        "\n",
        "    # Normalize words\n",
        "    text = text.lower()\n",
        "\n",
        "    # Remove stopwords\n",
        "    stop_words = set(stopwords.words('english'))\n",
        "    words_filtered = [w for w in text.split() if w not in stop_words]\n",
        "    text_no_stopwords = ' '.join(words_filtered)\n",
        "\n",
        "    # Lemmatization\n",
        "    lemmatizer = WordNetLemmatizer()\n",
        "    words_lemmatized = [lemmatizer.lemmatize(w) for w in text_no_stopwords.split()]\n",
        "    text_lemmatized = ' '.join(words_lemmatized)\n",
        "\n",
        "    return text_lemmatized"
      ],
      "metadata": {
        "id": "QaC54jePRpN2"
      },
      "execution_count": 18,
      "outputs": []
    },
    {
      "cell_type": "code",
      "source": [
        "# Process the collected tweets\n",
        "for tweet in tweets:\n",
        "    # Print the tweet text\n",
        "    print(tweet.text)\n",
        "\n",
        "    # Access other tweet attributes, such as the author, date, and location\n",
        "    print(tweet.author.screen_name)\n",
        "    print(tweet.created_at)\n",
        "    print(tweet.geo)"
      ],
      "metadata": {
        "id": "467VaXL4TVNX"
      },
      "execution_count": null,
      "outputs": []
    }
  ]
}